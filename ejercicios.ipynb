{
  "cells": [
    {
      "cell_type": "markdown",
      "metadata": {},
      "source": "# 📚 Índice de Ejercicios\n\n- [Question (Level ?)](#question)\n- [Question 1 (Level 1)](#question-1)\n- [Question 2 (Level 1)](#question-2)\n- [Question 3 (Level 1)](#question-3)\n- [Question 4 (Level 1)](#question-4)\n- [Question 5 (Level 1)](#question-5)\n- [Question 6 (Level 2)](#question-6)\n- [Question 7 (Level 2)](#question-7)\n- [Question 8 (Level 2)](#question-8)\n- [Question 9 (Level 2)](#question-9)\n- [Question 10 (Level 2)](#question-10)\n- [Question 11 (Level 2)](#question-11)\n- [Question 12 (Level 2)](#question-12)\n- [Question 13 (Level 2)](#question-13)\n- [Question 14 (Level 2)](#question-14)\n- [Question 15 (Level 2)](#question-15)\n- [Question 16 (Level 2)](#question-16)\n- [Question 17 (Level 2)](#question-17)\n- [Question 18 (Level 3)](#question-18)\n- [Question 19 (Level 3)](#question-19)\n- [Question 20 (Level 3)](#question-20)\n- [Question 21 (Level 3)](#question-21)\n- [Question 22 (Level 3)](#question-22)\n- [Question 23 (Level ?)](#question-23)\n- [Question 24 (Level 1)](#question-24)\n- [Question 25 (Level 1)](#question-25)\n- [Question (Level ?)](#question)\n- [Question (Level ?)](#question)\n- [Question (Level ?)](#question)\n- [Question (Level ?)](#question)\n- [Question (Level ?)](#question)\n- [Question (Level ?)](#question)\n- [Question (Level ?)](#question)\n- [Question (Level ?)](#question)\n- [Question (Level ?)](#question)\n- [Question (Level ?)](#question)\n- [Question (Level ?)](#question)\n- [Question (Level ?)](#question)\n- [Question (Level ?)](#question)\n- [Question (Level ?)](#question)\n- [Question (Level ?)](#question)\n- [Question (Level ?)](#question)\n- [Question (Level ?)](#question)\n- [Question (Level ?)](#question)\n- [Question (Level ?)](#question)\n- [Question (Level ?)](#question)\n- [Question (Level ?)](#question)\n- [Question (Level ?)](#question)\n- [Question (Level ?)](#question)\n- [Question (Level ?)](#question)\n- [Question (Level ?)](#question)\n- [Question (Level ?)](#question)\n- [Question (Level ?)](#question)\n- [Question (Level ?)](#question)\n- [Question (Level ?)](#question)\n- [Question (Level ?)](#question)\n- [Question (Level ?)](#question)\n- [Question (Level ?)](#question)\n- [Question (Level ?)](#question)\n- [Question (Level ?)](#question)\n- [Question (Level ?)](#question)\n- [Question (Level ?)](#question)\n- [Question (Level ?)](#question)\n- [Question (Level ?)](#question)\n- [Question (Level ?)](#question)\n- [Question (Level ?)](#question)\n- [Question (Level ?)](#question)\n- [Question (Level ?)](#question)\n- [Question (Level ?)](#question)\n- [Question (Level ?)](#question)\n- [Question (Level ?)](#question)\n- [Question (Level ?)](#question)\n- [Question (Level ?)](#question)\n- [Question (Level ?)](#question)\n- [Question (Level ?)](#question)\n- [Question (Level ?)](#question)\n- [Question (Level ?)](#question)\n- [Question (Level ?)](#question)\n- [Question (Level ?)](#question)\n- [Question (Level ?)](#question)\n- [Question (Level ?)](#question)\n- [Question (Level ?)](#question)\n- [Question (Level ?)](#question)\n- [Question (Level ?)](#question)\n- [Question (Level ?)](#question)\n- [Question (Level ?)](#question)\n- [Question (Level ?)](#question)\n- [Question (Level ?)](#question)\n- [Question (Level ?)](#question)\n- [Question (Level ?)](#question)\n- [Question (Level ?)](#question)\n- [Question (Level ?)](#question)\n- [Question (Level ?)](#question)"
    },
    {
      "cell_type": "markdown",
      "metadata": {},
      "source": "<a id='question'></a>\n\n## Question (Level ?)\n\n"
    },
    {
      "cell_type": "markdown",
      "metadata": {},
      "source": "<a id='question-1'></a>\n\n## Question 1 (Level 1)\n\nWrite a program which will find all such numbers which are divisible by 7 but are not a multiple of 5,\nbetween 2000 and 3200 (both included).\nThe numbers obtained should be printed in a comma-separated sequence on a single line."
    },
    {
      "cell_type": "markdown",
      "metadata": {},
      "source": "**💡 Hint:**\n\nConsider use range(#begin, #end) method"
    },
    {
      "cell_type": "code",
      "metadata": {},
      "execution_count": null,
      "outputs": [],
      "source": "l=[]\nfor i in range(2000, 3201):\n    if (i%7==0) and (i%5!=0):\n        l.append(str(i))\n\nprint ','.join(l)"
    },
    {
      "cell_type": "markdown",
      "metadata": {},
      "source": "<a id='question-2'></a>\n\n## Question 2 (Level 1)\n\nWrite a program which can compute the factorial of a given numbers.\nThe results should be printed in a comma-separated sequence on a single line.\nSuppose the following input is supplied to the program:\n8\nThen, the output should be:\n40320"
    },
    {
      "cell_type": "markdown",
      "metadata": {},
      "source": "**💡 Hint:**\n\nIn case of input data being supplied to the question, it should be assumed to be a console input."
    },
    {
      "cell_type": "code",
      "metadata": {},
      "execution_count": null,
      "outputs": [],
      "source": "def fact(x):\n    if x == 0:\n        return 1\n    return x * fact(x - 1)\n\nx=int(raw_input())\nprint fact(x)"
    },
    {
      "cell_type": "markdown",
      "metadata": {},
      "source": "<a id='question-3'></a>\n\n## Question 3 (Level 1)\n\nWith a given integral number n, write a program to generate a dictionary that contains (i, i*i) such that is an integral number between 1 and n (both included). and then the program should print the dictionary.\nSuppose the following input is supplied to the program:\n8\nThen, the output should be:\n{1: 1, 2: 4, 3: 9, 4: 16, 5: 25, 6: 36, 7: 49, 8: 64}"
    },
    {
      "cell_type": "markdown",
      "metadata": {},
      "source": "**💡 Hint:**\n\nIn case of input data being supplied to the question, it should be assumed to be a console input.\nConsider use dict()"
    },
    {
      "cell_type": "code",
      "metadata": {},
      "execution_count": null,
      "outputs": [],
      "source": "n=int(raw_input())\nd=dict()\nfor i in range(1,n+1):\n    d[i]=i*i\n\nprint d"
    },
    {
      "cell_type": "markdown",
      "metadata": {},
      "source": "<a id='question-4'></a>\n\n## Question 4 (Level 1)\n\nWrite a program which accepts a sequence of comma-separated numbers from console and generate a list and a tuple which contains every number.\nSuppose the following input is supplied to the program:\n34,67,55,33,12,98\nThen, the output should be:\n['34', '67', '55', '33', '12', '98']\n('34', '67', '55', '33', '12', '98')"
    },
    {
      "cell_type": "markdown",
      "metadata": {},
      "source": "**💡 Hint:**\n\nIn case of input data being supplied to the question, it should be assumed to be a console input.\ntuple() method can convert list to tuple"
    },
    {
      "cell_type": "code",
      "metadata": {},
      "execution_count": null,
      "outputs": [],
      "source": "values=raw_input()\nl=values.split(\",\")\nt=tuple(l)\nprint l\nprint t"
    },
    {
      "cell_type": "markdown",
      "metadata": {},
      "source": "<a id='question-5'></a>\n\n## Question 5 (Level 1)\n\nDefine a class which has at least two methods:\ngetString: to get a string from console input\nprintString: to print the string in upper case.\nAlso please include simple test function to test the class methods."
    },
    {
      "cell_type": "markdown",
      "metadata": {},
      "source": "**💡 Hint:**\n\nUse __init__ method to construct some parameters"
    },
    {
      "cell_type": "code",
      "metadata": {},
      "execution_count": null,
      "outputs": [],
      "source": "class InputOutString(object):\n    def __init__(self):\n        self.s = \"\"\n\n    def getString(self):\n        self.s = raw_input()\n\n    def printString(self):\n        print self.s.upper()\n\nstrObj = InputOutString()\nstrObj.getString()\nstrObj.printString()"
    },
    {
      "cell_type": "markdown",
      "metadata": {},
      "source": "<a id='question-6'></a>\n\n## Question 6 (Level 2)\n\nWrite a program that calculates and prints the value according to the given formula:\nQ = Square root of [(2 * C * D)/H]\nFollowing are the fixed values of C and H:\nC is 50. H is 30.\nD is the variable whose values should be input to your program in a comma-separated sequence.\nExample\nLet us assume the following comma separated input sequence is given to the program:\n100,150,180\nThe output of the program should be:\n18,22,24"
    },
    {
      "cell_type": "markdown",
      "metadata": {},
      "source": "**💡 Hint:**\n\nIf the output received is in decimal form, it should be rounded off to its nearest value (for example, if the output received is 26.0, it should be printed as 26)\nIn case of input data being supplied to the question, it should be assumed to be a console input."
    },
    {
      "cell_type": "code",
      "metadata": {},
      "execution_count": null,
      "outputs": [],
      "source": "#!/usr/bin/env python\nimport math\nc=50\nh=30\nvalue = []\nitems=[x for x in raw_input().split(',')]\nfor d in items:\n    value.append(str(int(round(math.sqrt(2*c*float(d)/h)))))\n\nprint ','.join(value)"
    },
    {
      "cell_type": "markdown",
      "metadata": {},
      "source": "<a id='question-7'></a>\n\n## Question 7 (Level 2)\n\nWrite a program which takes 2 digits, X,Y as input and generates a 2-dimensional array. The element value in the i-th row and j-th column of the array should be i*j.\nNote: i=0,1.., X-1; j=0,1,¡­Y-1.\nExample\nSuppose the following inputs are given to the program:\n3,5\nThen, the output of the program should be:\n[[0, 0, 0, 0, 0], [0, 1, 2, 3, 4], [0, 2, 4, 6, 8]]"
    },
    {
      "cell_type": "markdown",
      "metadata": {},
      "source": "**💡 Hint:**\n\nNote: In case of input data being supplied to the question, it should be assumed to be a console input in a comma-separated form."
    },
    {
      "cell_type": "code",
      "metadata": {},
      "execution_count": null,
      "outputs": [],
      "source": "input_str = raw_input()\ndimensions=[int(x) for x in input_str.split(',')]\nrowNum=dimensions[0]\ncolNum=dimensions[1]\nmultilist = [[0 for col in range(colNum)] for row in range(rowNum)]\n\nfor row in range(rowNum):\n    for col in range(colNum):\n        multilist[row][col]= row*col\n\nprint multilist"
    },
    {
      "cell_type": "markdown",
      "metadata": {},
      "source": "<a id='question-8'></a>\n\n## Question 8 (Level 2)\n\nWrite a program that accepts a comma separated sequence of words as input and prints the words in a comma-separated sequence after sorting them alphabetically.\nSuppose the following input is supplied to the program:\nwithout,hello,bag,world\nThen, the output should be:\nbag,hello,without,world"
    },
    {
      "cell_type": "markdown",
      "metadata": {},
      "source": "**💡 Hint:**\n\nIn case of input data being supplied to the question, it should be assumed to be a console input."
    },
    {
      "cell_type": "code",
      "metadata": {},
      "execution_count": null,
      "outputs": [],
      "source": "items=[x for x in raw_input().split(',')]\nitems.sort()\nprint ','.join(items)"
    },
    {
      "cell_type": "markdown",
      "metadata": {},
      "source": "<a id='question-9'></a>\n\n## Question 9 (Level 2)\n\n"
    },
    {
      "cell_type": "markdown",
      "metadata": {},
      "source": "**💡 Hint:**\n\nIn case of input data being supplied to the question, it should be assumed to be a console input."
    },
    {
      "cell_type": "code",
      "metadata": {},
      "execution_count": null,
      "outputs": [],
      "source": "lines = []\nwhile True:\n    s = raw_input()\n    if s:\n        lines.append(s.upper())\n    else:\n        break;\n\nfor sentence in lines:\n    print sentence"
    },
    {
      "cell_type": "markdown",
      "metadata": {},
      "source": "<a id='question-10'></a>\n\n## Question 10 (Level 2)\n\nWrite a program that accepts a sequence of whitespace separated words as input and prints the words after removing all duplicate words and sorting them alphanumerically.\nSuppose the following input is supplied to the program:\nhello world and practice makes perfect and hello world again\nThen, the output should be:\nagain and hello makes perfect practice world"
    },
    {
      "cell_type": "markdown",
      "metadata": {},
      "source": "**💡 Hint:**\n\nIn case of input data being supplied to the question, it should be assumed to be a console input.\nWe use set container to remove duplicated data automatically and then use sorted() to sort the data."
    },
    {
      "cell_type": "code",
      "metadata": {},
      "execution_count": null,
      "outputs": [],
      "source": "s = raw_input()\nwords = [word for word in s.split(\" \")]\nprint \" \".join(sorted(list(set(words))))"
    },
    {
      "cell_type": "markdown",
      "metadata": {},
      "source": "<a id='question-11'></a>\n\n## Question 11 (Level 2)\n\nWrite a program which accepts a sequence of comma separated 4 digit binary numbers as its input and then check whether they are divisible by 5 or not. The numbers that are divisible by 5 are to be printed in a comma separated sequence.\nExample:\n0100,0011,1010,1001\nThen the output should be:\n1010\nNotes: Assume the data is input by console."
    },
    {
      "cell_type": "markdown",
      "metadata": {},
      "source": "**💡 Hint:**\n\nIn case of input data being supplied to the question, it should be assumed to be a console input."
    },
    {
      "cell_type": "code",
      "metadata": {},
      "execution_count": null,
      "outputs": [],
      "source": "value = []\nitems=[x for x in raw_input().split(',')]\nfor p in items:\n    intp = int(p, 2)\n    if not intp%5:\n        value.append(p)\n\nprint ','.join(value)"
    },
    {
      "cell_type": "markdown",
      "metadata": {},
      "source": "<a id='question-12'></a>\n\n## Question 12 (Level 2)\n\nWrite a program, which will find all such numbers between 1000 and 3000 (both included) such that each digit of the number is an even number.\nThe numbers obtained should be printed in a comma-separated sequence on a single line."
    },
    {
      "cell_type": "markdown",
      "metadata": {},
      "source": "**💡 Hint:**\n\nIn case of input data being supplied to the question, it should be assumed to be a console input."
    },
    {
      "cell_type": "code",
      "metadata": {},
      "execution_count": null,
      "outputs": [],
      "source": "values = []\nfor i in range(1000, 3001):\n    s = str(i)\n    if (int(s[0])%2==0) and (int(s[1])%2==0) and (int(s[2])%2==0) and (int(s[3])%2==0):\n        values.append(s)\nprint \",\".join(values)"
    },
    {
      "cell_type": "markdown",
      "metadata": {},
      "source": "<a id='question-13'></a>\n\n## Question 13 (Level 2)\n\nWrite a program that accepts a sentence and calculate the number of letters and digits.\nSuppose the following input is supplied to the program:\nhello world! 123\nThen, the output should be:\nLETTERS 10\nDIGITS 3"
    },
    {
      "cell_type": "markdown",
      "metadata": {},
      "source": "**💡 Hint:**\n\nIn case of input data being supplied to the question, it should be assumed to be a console input."
    },
    {
      "cell_type": "code",
      "metadata": {},
      "execution_count": null,
      "outputs": [],
      "source": "s = raw_input()\nd={\"DIGITS\":0, \"LETTERS\":0}\nfor c in s:\n    if c.isdigit():\n        d[\"DIGITS\"]+=1\n    elif c.isalpha():\n        d[\"LETTERS\"]+=1\n    else:\n        pass\nprint \"LETTERS\", d[\"LETTERS\"]\nprint \"DIGITS\", d[\"DIGITS\"]"
    },
    {
      "cell_type": "markdown",
      "metadata": {},
      "source": "<a id='question-14'></a>\n\n## Question 14 (Level 2)\n\nWrite a program that accepts a sentence and calculate the number of upper case letters and lower case letters.\nSuppose the following input is supplied to the program:\nHello world!\nThen, the output should be:\nUPPER CASE 1\nLOWER CASE 9"
    },
    {
      "cell_type": "markdown",
      "metadata": {},
      "source": "**💡 Hint:**\n\nIn case of input data being supplied to the question, it should be assumed to be a console input."
    },
    {
      "cell_type": "code",
      "metadata": {},
      "execution_count": null,
      "outputs": [],
      "source": "s = raw_input()\nd={\"UPPER CASE\":0, \"LOWER CASE\":0}\nfor c in s:\n    if c.isupper():\n        d[\"UPPER CASE\"]+=1\n    elif c.islower():\n        d[\"LOWER CASE\"]+=1\n    else:\n        pass\nprint \"UPPER CASE\", d[\"UPPER CASE\"]\nprint \"LOWER CASE\", d[\"LOWER CASE\"]"
    },
    {
      "cell_type": "markdown",
      "metadata": {},
      "source": "<a id='question-15'></a>\n\n## Question 15 (Level 2)\n\nWrite a program that computes the value of a+aa+aaa+aaaa with a given digit as the value of a.\nSuppose the following input is supplied to the program:\n9\nThen, the output should be:\n11106"
    },
    {
      "cell_type": "markdown",
      "metadata": {},
      "source": "**💡 Hint:**\n\nIn case of input data being supplied to the question, it should be assumed to be a console input."
    },
    {
      "cell_type": "code",
      "metadata": {},
      "execution_count": null,
      "outputs": [],
      "source": "a = raw_input()\nn1 = int( \"%s\" % a )\nn2 = int( \"%s%s\" % (a,a) )\nn3 = int( \"%s%s%s\" % (a,a,a) )\nn4 = int( \"%s%s%s%s\" % (a,a,a,a) )\nprint n1+n2+n3+n4"
    },
    {
      "cell_type": "markdown",
      "metadata": {},
      "source": "<a id='question-16'></a>\n\n## Question 16 (Level 2)\n\nUse a list comprehension to square each odd number in a list. The list is input by a sequence of comma-separated numbers.\nSuppose the following input is supplied to the program:\n1,2,3,4,5,6,7,8,9\nThen, the output should be:\n1,3,5,7,9"
    },
    {
      "cell_type": "markdown",
      "metadata": {},
      "source": "**💡 Hint:**\n\nIn case of input data being supplied to the question, it should be assumed to be a console input."
    },
    {
      "cell_type": "code",
      "metadata": {},
      "execution_count": null,
      "outputs": [],
      "source": "values = raw_input()\nnumbers = [x for x in values.split(\",\") if int(x)%2!=0]\nprint \",\".join(numbers)"
    },
    {
      "cell_type": "markdown",
      "metadata": {},
      "source": "<a id='question-17'></a>\n\n## Question 17 (Level 2)\n\nWrite a program that computes the net amount of a bank account based a transaction log from console input. The transaction log format is shown as following:\nD 100\nW 200\n\nD means deposit while W means withdrawal.\nSuppose the following input is supplied to the program:\nD 300\nD 300\nW 200\nD 100\nThen, the output should be:\n500"
    },
    {
      "cell_type": "markdown",
      "metadata": {},
      "source": "**💡 Hint:**\n\nIn case of input data being supplied to the question, it should be assumed to be a console input."
    },
    {
      "cell_type": "code",
      "metadata": {},
      "execution_count": null,
      "outputs": [],
      "source": "netAmount = 0\nwhile True:\n    s = raw_input()\n    if not s:\n        break\n    values = s.split(\" \")\n    operation = values[0]\n    amount = int(values[1])\n    if operation==\"D\":\n        netAmount+=amount\n    elif operation==\"W\":\n        netAmount-=amount\n    else:\n        pass\nprint netAmount"
    },
    {
      "cell_type": "markdown",
      "metadata": {},
      "source": "<a id='question-18'></a>\n\n## Question 18 (Level 3)\n\nA website requires the users to input username and password to register. Write a program to check the validity of password input by users.\nFollowing are the criteria for checking the password:\n1. At least 1 letter between [a-z]\n2. At least 1 number between [0-9]\n1. At least 1 letter between [A-Z]\n3. At least 1 character from [$#@]\n4. Minimum length of transaction password: 6\n5. Maximum length of transaction password: 12\nYour program should accept a sequence of comma separated passwords and will check them according to the above criteria. Passwords that match the criteria are to be printed, each separated by a comma.\nExample\nIf the following passwords are given as input to the program:\nABd1234@1,a F1#,2w3E*,2We3345\nThen, the output of the program should be:\nABd1234@1"
    },
    {
      "cell_type": "markdown",
      "metadata": {},
      "source": "<a id='question-19'></a>\n\n## Question 19 (Level 3)\n\nYou are required to write a program to sort the (name, age, height) tuples by ascending order where name is string, age and height are numbers. The tuples are input by console. The sort criteria is:\n1: Sort based on name;\n2: Then sort based on age;\n3: Then sort by score.\nThe priority is that name > age > score.\nIf the following tuples are given as input to the program:\nTom,19,80\nJohn,20,90\nJony,17,91\nJony,17,93\nJson,21,85\nThen, the output of the program should be:\n[('John', '20', '90'), ('Jony', '17', '91'), ('Jony', '17', '93'), ('Json', '21', '85'), ('Tom', '19', '80')]"
    },
    {
      "cell_type": "markdown",
      "metadata": {},
      "source": "<a id='question-20'></a>\n\n## Question 20 (Level 3)\n\nDefine a class with a generator which can iterate the numbers, which are divisible by 7, between a given range 0 and n."
    },
    {
      "cell_type": "markdown",
      "metadata": {},
      "source": "**💡 Hint:**\n\nConsider use yield"
    },
    {
      "cell_type": "code",
      "metadata": {},
      "execution_count": null,
      "outputs": [],
      "source": "def putNumbers(n):\n    i = 0\n    while i<n:\n        j=i\n        i=i+1\n        if j%7==0:\n            yield j\n\nfor i in reverse(100):\n    print i"
    },
    {
      "cell_type": "markdown",
      "metadata": {},
      "source": "<a id='question-21'></a>\n\n## Question 21 (Level 3)\n\n"
    },
    {
      "cell_type": "markdown",
      "metadata": {},
      "source": "**💡 Hint:**\n\nIn case of input data being supplied to the question, it should be assumed to be a console input."
    },
    {
      "cell_type": "code",
      "metadata": {},
      "execution_count": null,
      "outputs": [],
      "source": "import math\npos = [0,0]\nwhile True:\n    s = raw_input()\n    if not s:\n        break\n    movement = s.split(\" \")\n    direction = movement[0]\n    steps = int(movement[1])\n    if direction==\"UP\":\n        pos[0]+=steps\n    elif direction==\"DOWN\":\n        pos[0]-=steps\n    elif direction==\"LEFT\":\n        pos[1]-=steps\n    elif direction==\"RIGHT\":\n        pos[1]+=steps\n    else:\n        pass\n\nprint int(round(math.sqrt(pos[1]**2+pos[0]**2)))"
    },
    {
      "cell_type": "markdown",
      "metadata": {},
      "source": "<a id='question-22'></a>\n\n## Question 22 (Level 3)\n\n"
    },
    {
      "cell_type": "code",
      "metadata": {},
      "execution_count": null,
      "outputs": [],
      "source": "freq = {}   # frequency of words in text\nline = raw_input()\nfor word in line.split():\n    freq[word] = freq.get(word,0)+1\n\nwords = freq.keys()\nwords.sort()\n\nfor w in words:\n    print \"%s:%d\" % (w,freq[w])"
    },
    {
      "cell_type": "markdown",
      "metadata": {},
      "source": "<a id='question-23'></a>\n\n## Question 23 (Level ?)\n\nWrite a method which can calculate square value of number"
    },
    {
      "cell_type": "markdown",
      "metadata": {},
      "source": "**💡 Hint:**\n\nUsing the ** operator"
    },
    {
      "cell_type": "code",
      "metadata": {},
      "execution_count": null,
      "outputs": [],
      "source": "def square(num):\n    return num ** 2\n\nprint square(2)\nprint square(3)"
    },
    {
      "cell_type": "markdown",
      "metadata": {},
      "source": "<a id='question-24'></a>\n\n## Question 24 (Level 1)\n\nPython has many built-in functions, and if you do not know how to use it, you can read document online or find some books. But Python has a built-in document function for every built-in functions.\n    Please write a program to print some Python built-in functions documents, such as abs(), int(), raw_input()\n    And add document for your own function"
    },
    {
      "cell_type": "markdown",
      "metadata": {},
      "source": "**💡 Hint:**\n\nThe built-in document method is __doc__"
    },
    {
      "cell_type": "code",
      "metadata": {},
      "execution_count": null,
      "outputs": [],
      "source": "print abs.__doc__\nprint int.__doc__\nprint raw_input.__doc__\n\ndef square(num):\n    '''Return the square value of the input number.\n    \n    The input number must be integer.\n    '''\n    return num ** 2\n\nprint square(2)\nprint square.__doc__"
    },
    {
      "cell_type": "markdown",
      "metadata": {},
      "source": "<a id='question-25'></a>\n\n## Question 25 (Level 1)\n\nDefine a class, which have a class parameter and have a same instance parameter."
    },
    {
      "cell_type": "markdown",
      "metadata": {},
      "source": "**💡 Hint:**\n\nDefine a instance parameter, need add it in __init__ method\n    You can init a object with construct parameter or set the value later"
    },
    {
      "cell_type": "code",
      "metadata": {},
      "execution_count": null,
      "outputs": [],
      "source": "class Person:\n    # Define the class parameter \"name\"\n    name = \"Person\"\n    \n    def __init__(self, name = None):\n        # self.name is the instance parameter\n        self.name = name\n\njeffrey = Person(\"Jeffrey\")\nprint \"%s name is %s\" % (Person.name, jeffrey.name)\n\nnico = Person()\nnico.name = \"Nico\"\nprint \"%s name is %s\" % (Person.name, nico.name)"
    },
    {
      "cell_type": "markdown",
      "metadata": {},
      "source": "<a id='question'></a>\n\n## Question (Level ?)\n\nDefine a function which can compute the sum of two numbers."
    },
    {
      "cell_type": "markdown",
      "metadata": {},
      "source": "<a id='question'></a>\n\n## Question (Level ?)\n\nDefine a function that can convert a integer into a string and print it in console."
    },
    {
      "cell_type": "markdown",
      "metadata": {},
      "source": "<a id='question'></a>\n\n## Question (Level ?)\n\nDefine a function that can convert a integer into a string and print it in console."
    },
    {
      "cell_type": "markdown",
      "metadata": {},
      "source": "<a id='question'></a>\n\n## Question (Level ?)\n\nDefine a function that can receive two integral numbers in string form and compute their sum and then print it in console."
    },
    {
      "cell_type": "markdown",
      "metadata": {},
      "source": "<a id='question'></a>\n\n## Question (Level ?)\n\nDefine a function that can accept two strings as input and concatenate them and then print it in console."
    },
    {
      "cell_type": "markdown",
      "metadata": {},
      "source": "<a id='question'></a>\n\n## Question (Level ?)\n\nDefine a function that can accept two strings as input and print the string with maximum length in console. If two strings have the same length, then the function should print al l strings line by line."
    },
    {
      "cell_type": "markdown",
      "metadata": {},
      "source": "<a id='question'></a>\n\n## Question (Level ?)\n\nDefine a function that can accept an integer number as input and print the \"It is an even number\" if the number is even, otherwise print \"It is an odd number\"."
    },
    {
      "cell_type": "markdown",
      "metadata": {},
      "source": "<a id='question'></a>\n\n## Question (Level ?)\n\nDefine a function which can print a dictionary where the keys are numbers between 1 and 3 (both included) and the values are square of keys."
    },
    {
      "cell_type": "markdown",
      "metadata": {},
      "source": "<a id='question'></a>\n\n## Question (Level ?)\n\nDefine a function which can print a dictionary where the keys are numbers between 1 and 20 (both included) and the values are square of keys."
    },
    {
      "cell_type": "markdown",
      "metadata": {},
      "source": "<a id='question'></a>\n\n## Question (Level ?)\n\nDefine a function which can generate a dictionary where the keys are numbers between 1 and 20 (both included) and the values are square of keys. The function should just print the values only."
    },
    {
      "cell_type": "markdown",
      "metadata": {},
      "source": "<a id='question'></a>\n\n## Question (Level ?)\n\nDefine a function which can generate a dictionary where the keys are numbers between 1 and 20 (both included) and the values are square of keys. The function should just print the keys only."
    },
    {
      "cell_type": "markdown",
      "metadata": {},
      "source": "<a id='question'></a>\n\n## Question (Level ?)\n\nDefine a function which can generate and print a list where the values are square of numbers between 1 and 20 (both included)."
    },
    {
      "cell_type": "markdown",
      "metadata": {},
      "source": "<a id='question'></a>\n\n## Question (Level ?)\n\nDefine a function which can generate a list where the values are square of numbers between 1 and 20 (both included). Then the function needs to print the first 5 elements in the list."
    },
    {
      "cell_type": "markdown",
      "metadata": {},
      "source": "<a id='question'></a>\n\n## Question (Level ?)\n\nDefine a function which can generate a list where the values are square of numbers between 1 and 20 (both included). Then the function needs to print the last 5 elements in the list."
    },
    {
      "cell_type": "markdown",
      "metadata": {},
      "source": "<a id='question'></a>\n\n## Question (Level ?)\n\nDefine a function which can generate a list where the values are square of numbers between 1 and 20 (both included). Then the function needs to print all values except the first 5 elements in the list."
    },
    {
      "cell_type": "markdown",
      "metadata": {},
      "source": "<a id='question'></a>\n\n## Question (Level ?)\n\nDefine a function which can generate and print a tuple where the value are square of numbers between 1 and 20 (both included)."
    },
    {
      "cell_type": "markdown",
      "metadata": {},
      "source": "<a id='question'></a>\n\n## Question (Level ?)\n\nWith a given tuple (1,2,3,4,5,6,7,8,9,10), write a program to print the first half values in one line and the last half values in one line."
    },
    {
      "cell_type": "markdown",
      "metadata": {},
      "source": "<a id='question'></a>\n\n## Question (Level ?)\n\nWrite a program to generate and print another tuple whose values are even numbers in the given tuple (1,2,3,4,5,6,7,8,9,10)."
    },
    {
      "cell_type": "markdown",
      "metadata": {},
      "source": "<a id='question'></a>\n\n## Question (Level ?)\n\nWrite a program which accepts a string as input to print \"Yes\" if the string is \"yes\" or \"YES\" or \"Yes\", otherwise print \"No\"."
    },
    {
      "cell_type": "markdown",
      "metadata": {},
      "source": "<a id='question'></a>\n\n## Question (Level ?)\n\nWrite a program which can filter even numbers in a list by using filter function. The list is: [1,2,3,4,5,6,7,8,9,10]."
    },
    {
      "cell_type": "markdown",
      "metadata": {},
      "source": "<a id='question'></a>\n\n## Question (Level ?)\n\nWrite a program which can map() to make a list whose elements are square of elements in [1,2,3,4,5,6,7,8,9,10]."
    },
    {
      "cell_type": "markdown",
      "metadata": {},
      "source": "<a id='question'></a>\n\n## Question (Level ?)\n\nWrite a program which can map() and filter() to make a list whose elements are square of even number in [1,2,3,4,5,6,7,8,9,10]."
    },
    {
      "cell_type": "markdown",
      "metadata": {},
      "source": "<a id='question'></a>\n\n## Question (Level ?)\n\nWrite a program which can filter() to make a list whose elements are even number between 1 and 20 (both included)."
    },
    {
      "cell_type": "markdown",
      "metadata": {},
      "source": "<a id='question'></a>\n\n## Question (Level ?)\n\nWrite a program which can map() to make a list whose elements are square of numbers between 1 and 20 (both included)."
    },
    {
      "cell_type": "markdown",
      "metadata": {},
      "source": "<a id='question'></a>\n\n## Question (Level ?)\n\nDefine a class named American which has a static method called printNationality."
    },
    {
      "cell_type": "markdown",
      "metadata": {},
      "source": "<a id='question'></a>\n\n## Question (Level ?)\n\nDefine a class named American and its subclass NewYorker."
    },
    {
      "cell_type": "markdown",
      "metadata": {},
      "source": "**💡 Hint:**\n\nUse class Subclass(ParentClass) to define a subclass."
    },
    {
      "cell_type": "code",
      "metadata": {},
      "execution_count": null,
      "outputs": [],
      "source": "class American(object):\n    pass\n\nclass NewYorker(American):\n    pass\n\nanAmerican = American()\naNewYorker = NewYorker()\nprint anAmerican\nprint aNewYorker"
    },
    {
      "cell_type": "markdown",
      "metadata": {},
      "source": "<a id='question'></a>\n\n## Question (Level ?)\n\nDefine a class named Circle which can be constructed by a radius. The Circle class has a method which can compute the area."
    },
    {
      "cell_type": "markdown",
      "metadata": {},
      "source": "**💡 Hint:**\n\nUse def methodName(self) to define a method."
    },
    {
      "cell_type": "code",
      "metadata": {},
      "execution_count": null,
      "outputs": [],
      "source": "class Circle(object):\n    def __init__(self, r):\n        self.radius = r\n\n    def area(self):\n        return self.radius**2*3.14\n\naCircle = Circle(2)\nprint aCircle.area()"
    },
    {
      "cell_type": "markdown",
      "metadata": {},
      "source": "<a id='question'></a>\n\n## Question (Level ?)\n\nAssuming that we have some email addresses in the \"username@companyname.com\" format, please write program to print the user name of a given email address. Both user names and company names are composed of letters only.\n\nExample:\nIf the following email address is given as input to the program:\n\njohn@google.com\n\nThen, the output of the program should be:\n\njohn\n\nIn case of input data being supplied to the question, it should be assumed to be a console input."
    },
    {
      "cell_type": "markdown",
      "metadata": {},
      "source": "**💡 Hint:**\n\nUse \\w to match letters."
    },
    {
      "cell_type": "code",
      "metadata": {},
      "execution_count": null,
      "outputs": [],
      "source": "import re\nemailAddress = raw_input()\npat2 = \"(\\w+)@((\\w+\\.)+(com))\"\nr2 = re.match(pat2,emailAddress)\nprint r2.group(1)"
    },
    {
      "cell_type": "markdown",
      "metadata": {},
      "source": "<a id='question'></a>\n\n## Question (Level ?)\n\nAssuming that we have some email addresses in the \"username@companyname.com\" format, please write program to print the company name of a given email address. Both user names and company names are composed of letters only.\n\nExample:\nIf the following email address is given as input to the program:\n\njohn@google.com\n\nThen, the output of the program should be:\n\ngoogle\n\nIn case of input data being supplied to the question, it should be assumed to be a console input."
    },
    {
      "cell_type": "markdown",
      "metadata": {},
      "source": "**💡 Hint:**\n\nUse \\w to match letters."
    },
    {
      "cell_type": "code",
      "metadata": {},
      "execution_count": null,
      "outputs": [],
      "source": "import re\nemailAddress = raw_input()\npat2 = \"(\\w+)@(\\w+)\\.(com)\"\nr2 = re.match(pat2,emailAddress)\nprint r2.group(2)"
    },
    {
      "cell_type": "markdown",
      "metadata": {},
      "source": "<a id='question'></a>\n\n## Question (Level ?)\n\nWrite a program which accepts a sequence of words separated by whitespace as input to print the words composed of digits only.\n\nExample:\nIf the following words is given as input to the program:\n\n2 cats and 3 dogs.\n\nThen, the output of the program should be:\n\n['2', '3']\n\nIn case of input data being supplied to the question, it should be assumed to be a console input."
    },
    {
      "cell_type": "markdown",
      "metadata": {},
      "source": "**💡 Hint:**\n\nUse re.findall() to find all substring using regex."
    },
    {
      "cell_type": "code",
      "metadata": {},
      "execution_count": null,
      "outputs": [],
      "source": "import re\ns = raw_input()\nprint re.findall(\"\\d+\",s)"
    },
    {
      "cell_type": "markdown",
      "metadata": {},
      "source": "<a id='question'></a>\n\n## Question (Level ?)\n\nPrint a unicode string \"hello world\"."
    },
    {
      "cell_type": "markdown",
      "metadata": {},
      "source": "**💡 Hint:**\n\nUse u'strings' format to define unicode string."
    },
    {
      "cell_type": "code",
      "metadata": {},
      "execution_count": null,
      "outputs": [],
      "source": "unicodeString = u\"hello world!\"\nprint unicodeString"
    },
    {
      "cell_type": "markdown",
      "metadata": {},
      "source": "<a id='question'></a>\n\n## Question (Level ?)\n\nWrite a special comment to indicate a Python source code file is in unicode."
    },
    {
      "cell_type": "code",
      "metadata": {},
      "execution_count": null,
      "outputs": [],
      "source": "# -*- coding: utf-8 -*-"
    },
    {
      "cell_type": "markdown",
      "metadata": {},
      "source": "<a id='question'></a>\n\n## Question (Level ?)\n\nWrite a program to compute 1/2+2/3+3/4+...+n/n+1 with a given n input by console (n>0).\n\nExample:\nIf the following n is given as input to the program:\n\n5\n\nThen, the output of the program should be:\n\n3.55\n\nIn case of input data being supplied to the question, it should be assumed to be a console input."
    },
    {
      "cell_type": "markdown",
      "metadata": {},
      "source": "**💡 Hint:**\n\nUse float() to convert an integer to a float"
    },
    {
      "cell_type": "code",
      "metadata": {},
      "execution_count": null,
      "outputs": [],
      "source": "n=int(raw_input())\nsum=0.0\nfor i in range(1,n+1):\n    sum += float(float(i)/(i+1))\nprint sum"
    },
    {
      "cell_type": "markdown",
      "metadata": {},
      "source": "<a id='question'></a>\n\n## Question (Level ?)\n\nWrite a program to compute:\n\nf(n)=f(n-1)+100 when n>0\nand f(0)=1\n\nwith a given n input by console (n>0).\n\nExample:\nIf the following n is given as input to the program:\n\n5\n\nThen, the output of the program should be:\n\n500\n\nIn case of input data being supplied to the question, it should be assumed to be a console input."
    },
    {
      "cell_type": "markdown",
      "metadata": {},
      "source": "**💡 Hint:**\n\nWe can define recursive function in Python."
    },
    {
      "cell_type": "code",
      "metadata": {},
      "execution_count": null,
      "outputs": [],
      "source": "def f(n):\n    if n==0:\n        return 0\n    else:\n        return f(n-1)+100\n\nn=int(raw_input())\nprint f(n)"
    },
    {
      "cell_type": "markdown",
      "metadata": {},
      "source": "<a id='question'></a>\n\n## Question (Level ?)\n\nThe Fibonacci Sequence is computed based on the following formula:\n\n\nf(n)=0 if n=0\nf(n)=1 if n=1\nf(n)=f(n-1)+f(n-2) if n>1\n\nPlease write a program to compute the value of f(n) with a given n input by console.\n\nExample:\nIf the following n is given as input to the program:\n\n7\n\nThen, the output of the program should be:\n\n13\n\nIn case of input data being supplied to the question, it should be assumed to be a console input."
    },
    {
      "cell_type": "markdown",
      "metadata": {},
      "source": "**💡 Hint:**\n\nWe can define recursive function in Python."
    },
    {
      "cell_type": "code",
      "metadata": {},
      "execution_count": null,
      "outputs": [],
      "source": "def f(n):\n    if n == 0: return 0\n    elif n == 1: return 1\n    else: return f(n-1)+f(n-2)\n\nn=int(raw_input())\nprint f(n)"
    },
    {
      "cell_type": "markdown",
      "metadata": {},
      "source": "<a id='question'></a>\n\n## Question (Level ?)\n\nThe Fibonacci Sequence is computed based on the following formula:\n\n\nf(n)=0 if n=0\nf(n)=1 if n=1\nf(n)=f(n-1)+f(n-2) if n>1\n\nPlease write a program using list comprehension to print the Fibonacci Sequence in comma separated form with a given n input by console.\n\nExample:\nIf the following n is given as input to the program:\n\n7\n\nThen, the output of the program should be:\n\n0,1,1,2,3,5,8,13"
    },
    {
      "cell_type": "markdown",
      "metadata": {},
      "source": "**💡 Hint:**\n\nWe can define recursive function in Python.\nUse list comprehension to generate a list from an existing list.\nUse string.join() to join a list of strings.\n\nIn case of input data being supplied to the question, it should be assumed to be a console input."
    },
    {
      "cell_type": "code",
      "metadata": {},
      "execution_count": null,
      "outputs": [],
      "source": "def f(n):\n    if n == 0: return 0\n    elif n == 1: return 1\n    else: return f(n-1)+f(n-2)\n\nn=int(raw_input())\nvalues = [str(f(x)) for x in range(0, n+1)]\nprint \",\".join(values)"
    },
    {
      "cell_type": "markdown",
      "metadata": {},
      "source": "<a id='question'></a>\n\n## Question (Level ?)\n\nPlease write a program using generator to print the even numbers between 0 and n in comma separated form while n is input by console.\n\nExample:\nIf the following n is given as input to the program:\n\n10\n\nThen, the output of the program should be:\n\n0,2,4,6,8,10"
    },
    {
      "cell_type": "markdown",
      "metadata": {},
      "source": "**💡 Hint:**\n\nUse yield to produce the next value in generator.\n\nIn case of input data being supplied to the question, it should be assumed to be a console input."
    },
    {
      "cell_type": "code",
      "metadata": {},
      "execution_count": null,
      "outputs": [],
      "source": "def EvenGenerator(n):\n    i=0\n    while i<=n:\n        if i%2==0:\n            yield i\n        i+=1\n\n\nn=int(raw_input())\nvalues = []\nfor i in EvenGenerator(n):\n    values.append(str(i))\n\nprint \",\".join(values)"
    },
    {
      "cell_type": "markdown",
      "metadata": {},
      "source": "<a id='question'></a>\n\n## Question (Level ?)\n\nPlease write a program using generator to print the numbers which can be divisible by 5 and 7 between 0 and n in comma separated form while n is input by console.\n\nExample:\nIf the following n is given as input to the program:\n\n100\n\nThen, the output of the program should be:\n\n0,35,70"
    },
    {
      "cell_type": "markdown",
      "metadata": {},
      "source": "**💡 Hint:**\n\nUse yield to produce the next value in generator.\n\nIn case of input data being supplied to the question, it should be assumed to be a console input."
    },
    {
      "cell_type": "code",
      "metadata": {},
      "execution_count": null,
      "outputs": [],
      "source": "def NumGenerator(n):\n    for i in range(n+1):\n        if i%5==0 and i%7==0:\n            yield i\n\nn=int(raw_input())\nvalues = []\nfor i in NumGenerator(n):\n    values.append(str(i))\n\nprint \",\".join(values)"
    },
    {
      "cell_type": "markdown",
      "metadata": {},
      "source": "<a id='question'></a>\n\n## Question (Level ?)\n\nPlease write assert statements to verify that every number in the list [2,4,6,8] is even."
    },
    {
      "cell_type": "markdown",
      "metadata": {},
      "source": "**💡 Hint:**\n\nUse \"assert expression\" to make assertion."
    },
    {
      "cell_type": "code",
      "metadata": {},
      "execution_count": null,
      "outputs": [],
      "source": "li = [2,4,6,8]\nfor i in li:\n    assert i%2==0"
    },
    {
      "cell_type": "markdown",
      "metadata": {},
      "source": "<a id='question'></a>\n\n## Question (Level ?)\n\nPlease write a program which accepts basic mathematic expression from console and print the evaluation result.\n\nExample:\nIf the following string is given as input to the program:\n\n35+3\n\nThen, the output of the program should be:\n\n38"
    },
    {
      "cell_type": "markdown",
      "metadata": {},
      "source": "**💡 Hint:**\n\nUse eval() to evaluate an expression."
    },
    {
      "cell_type": "code",
      "metadata": {},
      "execution_count": null,
      "outputs": [],
      "source": "expression = raw_input()\nprint eval(expression)"
    },
    {
      "cell_type": "markdown",
      "metadata": {},
      "source": "<a id='question'></a>\n\n## Question (Level ?)\n\nPlease write a binary search function which searches an item in a sorted list. The function should return the index of element to be searched in the list."
    },
    {
      "cell_type": "markdown",
      "metadata": {},
      "source": "**💡 Hint:**\n\nUse if/elif to deal with conditions."
    },
    {
      "cell_type": "code",
      "metadata": {},
      "execution_count": null,
      "outputs": [],
      "source": "import math\ndef bin_search(li, element):\n    bottom = 0\n    top = len(li)-1\n    index = -1\n    while top>=bottom and index==-1:\n        mid = int(math.floor((top+bottom)/2.0))\n        if li[mid]==element:\n            index = mid\n        elif li[mid]>element:\n            top = mid-1\n        else:\n            bottom = mid+1\n\n    return index\n\nli=[2,5,7,9,11,17,222]\nprint bin_search(li,11)\nprint bin_search(li,12)"
    },
    {
      "cell_type": "markdown",
      "metadata": {},
      "source": "<a id='question'></a>\n\n## Question (Level ?)\n\nPlease write a binary search function which searches an item in a sorted list. The function should return the index of element to be searched in the list."
    },
    {
      "cell_type": "markdown",
      "metadata": {},
      "source": "**💡 Hint:**\n\nUse if/elif to deal with conditions."
    },
    {
      "cell_type": "code",
      "metadata": {},
      "execution_count": null,
      "outputs": [],
      "source": "import math\ndef bin_search(li, element):\n    bottom = 0\n    top = len(li)-1\n    index = -1\n    while top>=bottom and index==-1:\n        mid = int(math.floor((top+bottom)/2.0))\n        if li[mid]==element:\n            index = mid\n        elif li[mid]>element:\n            top = mid-1\n        else:\n            bottom = mid+1\n\n    return index\n\nli=[2,5,7,9,11,17,222]\nprint bin_search(li,11)\nprint bin_search(li,12)"
    },
    {
      "cell_type": "markdown",
      "metadata": {},
      "source": "<a id='question'></a>\n\n## Question (Level ?)\n\nPlease generate a random float where the value is between 10 and 100 using Python math module."
    },
    {
      "cell_type": "markdown",
      "metadata": {},
      "source": "**💡 Hint:**\n\nUse random.random() to generate a random float in [0,1]."
    },
    {
      "cell_type": "code",
      "metadata": {},
      "execution_count": null,
      "outputs": [],
      "source": "import random\nprint random.random()*100"
    },
    {
      "cell_type": "markdown",
      "metadata": {},
      "source": "<a id='question'></a>\n\n## Question (Level ?)\n\nPlease generate a random float where the value is between 5 and 95 using Python math module."
    },
    {
      "cell_type": "markdown",
      "metadata": {},
      "source": "**💡 Hint:**\n\nUse random.random() to generate a random float in [0,1]."
    },
    {
      "cell_type": "code",
      "metadata": {},
      "execution_count": null,
      "outputs": [],
      "source": "import random\nprint random.random()*100-5"
    },
    {
      "cell_type": "markdown",
      "metadata": {},
      "source": "<a id='question'></a>\n\n## Question (Level ?)\n\nPlease write a program to output a random even number between 0 and 10 inclusive using random module and list comprehension."
    },
    {
      "cell_type": "markdown",
      "metadata": {},
      "source": "**💡 Hint:**\n\nUse random.choice() to a random element from a list."
    },
    {
      "cell_type": "code",
      "metadata": {},
      "execution_count": null,
      "outputs": [],
      "source": "import random\nprint random.choice([i for i in range(11) if i%2==0])"
    },
    {
      "cell_type": "markdown",
      "metadata": {},
      "source": "<a id='question'></a>\n\n## Question (Level ?)\n\nPlease write a program to output a random number, which is divisible by 5 and 7, between 0 and 10 inclusive using random module and list comprehension."
    },
    {
      "cell_type": "markdown",
      "metadata": {},
      "source": "**💡 Hint:**\n\nUse random.choice() to a random element from a list."
    },
    {
      "cell_type": "code",
      "metadata": {},
      "execution_count": null,
      "outputs": [],
      "source": "import random\nprint random.choice([i for i in range(201) if i%5==0 and i%7==0])"
    },
    {
      "cell_type": "markdown",
      "metadata": {},
      "source": "<a id='question'></a>\n\n## Question (Level ?)\n\nPlease write a program to generate a list with 5 random numbers between 100 and 200 inclusive."
    },
    {
      "cell_type": "markdown",
      "metadata": {},
      "source": "**💡 Hint:**\n\nUse random.sample() to generate a list of random values."
    },
    {
      "cell_type": "code",
      "metadata": {},
      "execution_count": null,
      "outputs": [],
      "source": "import random\nprint random.sample(range(100), 5)"
    },
    {
      "cell_type": "markdown",
      "metadata": {},
      "source": "<a id='question'></a>\n\n## Question (Level ?)\n\nPlease write a program to randomly generate a list with 5 even numbers between 100 and 200 inclusive."
    },
    {
      "cell_type": "markdown",
      "metadata": {},
      "source": "**💡 Hint:**\n\nUse random.sample() to generate a list of random values."
    },
    {
      "cell_type": "code",
      "metadata": {},
      "execution_count": null,
      "outputs": [],
      "source": "import random\nprint random.sample([i for i in range(100,201) if i%2==0], 5)"
    },
    {
      "cell_type": "markdown",
      "metadata": {},
      "source": "<a id='question'></a>\n\n## Question (Level ?)\n\nPlease write a program to randomly generate a list with 5 numbers, which are divisible by 5 and 7 , between 1 and 1000 inclusive."
    },
    {
      "cell_type": "markdown",
      "metadata": {},
      "source": "**💡 Hint:**\n\nUse random.sample() to generate a list of random values."
    },
    {
      "cell_type": "code",
      "metadata": {},
      "execution_count": null,
      "outputs": [],
      "source": "import random\nprint random.sample([i for i in range(1,1001) if i%5==0 and i%7==0], 5)"
    },
    {
      "cell_type": "markdown",
      "metadata": {},
      "source": "<a id='question'></a>\n\n## Question (Level ?)\n\nPlease write a program to randomly print a integer number between 7 and 15 inclusive."
    },
    {
      "cell_type": "markdown",
      "metadata": {},
      "source": "**💡 Hint:**\n\nUse random.randrange() to a random integer in a given range."
    },
    {
      "cell_type": "code",
      "metadata": {},
      "execution_count": null,
      "outputs": [],
      "source": "import random\nprint random.randrange(7,16)"
    },
    {
      "cell_type": "markdown",
      "metadata": {},
      "source": "<a id='question'></a>\n\n## Question (Level ?)\n\nPlease write a program to compress and decompress the string \"hello world!hello world!hello world!hello world!\"."
    },
    {
      "cell_type": "markdown",
      "metadata": {},
      "source": "**💡 Hint:**\n\nUse zlib.compress() and zlib.decompress() to compress and decompress a string."
    },
    {
      "cell_type": "code",
      "metadata": {},
      "execution_count": null,
      "outputs": [],
      "source": "import zlib\ns = 'hello world!hello world!hello world!hello world!'\nt = zlib.compress(s)\nprint t\nprint zlib.decompress(t)"
    },
    {
      "cell_type": "markdown",
      "metadata": {},
      "source": "<a id='question'></a>\n\n## Question (Level ?)\n\nPlease write a program to print the running time of execution of \"1+1\" for 100 times."
    },
    {
      "cell_type": "markdown",
      "metadata": {},
      "source": "**💡 Hint:**\n\nUse timeit() function to measure the running time."
    },
    {
      "cell_type": "code",
      "metadata": {},
      "execution_count": null,
      "outputs": [],
      "source": "from timeit import Timer\nt = Timer(\"for i in range(100):1+1\")\nprint t.timeit()"
    },
    {
      "cell_type": "markdown",
      "metadata": {},
      "source": "<a id='question'></a>\n\n## Question (Level ?)\n\nPlease write a program to shuffle and print the list [3,6,7,8]."
    },
    {
      "cell_type": "markdown",
      "metadata": {},
      "source": "**💡 Hint:**\n\nUse shuffle() function to shuffle a list."
    },
    {
      "cell_type": "code",
      "metadata": {},
      "execution_count": null,
      "outputs": [],
      "source": "from random import shuffle\nli = [3,6,7,8]\nshuffle(li)\nprint li"
    },
    {
      "cell_type": "markdown",
      "metadata": {},
      "source": "<a id='question'></a>\n\n## Question (Level ?)\n\nPlease write a program to shuffle and print the list [3,6,7,8]."
    },
    {
      "cell_type": "markdown",
      "metadata": {},
      "source": "**💡 Hint:**\n\nUse shuffle() function to shuffle a list."
    },
    {
      "cell_type": "code",
      "metadata": {},
      "execution_count": null,
      "outputs": [],
      "source": "from random import shuffle\nli = [3,6,7,8]\nshuffle(li)\nprint li"
    },
    {
      "cell_type": "markdown",
      "metadata": {},
      "source": "<a id='question'></a>\n\n## Question (Level ?)\n\nPlease write a program to generate all sentences where subject is in [\"I\", \"You\"] and verb is in [\"Play\", \"Love\"] and the object is in [\"Hockey\",\"Football\"]."
    },
    {
      "cell_type": "markdown",
      "metadata": {},
      "source": "**💡 Hint:**\n\nUse list[index] notation to get a element from a list."
    },
    {
      "cell_type": "code",
      "metadata": {},
      "execution_count": null,
      "outputs": [],
      "source": "subjects=[\"I\", \"You\"]\nverbs=[\"Play\", \"Love\"]\nobjects=[\"Hockey\",\"Football\"]\nfor i in range(len(subjects)):\n    for j in range(len(verbs)):\n        for k in range(len(objects)):\n            sentence = \"%s %s %s.\" % (subjects[i], verbs[j], objects[k])\n            print sentence"
    },
    {
      "cell_type": "markdown",
      "metadata": {},
      "source": "<a id='question'></a>\n\n## Question (Level ?)\n\nBy using list comprehension, please write a program to print the list after removing delete numbers which are divisible by 5 and 7 in [12,24,35,70,88,120,155]."
    },
    {
      "cell_type": "markdown",
      "metadata": {},
      "source": "**💡 Hint:**\n\nUse list comprehension to delete a bunch of element from a list."
    },
    {
      "cell_type": "code",
      "metadata": {},
      "execution_count": null,
      "outputs": [],
      "source": "li = [12,24,35,70,88,120,155]\nli = [x for x in li if x%5!=0 and x%7!=0]\nprint li"
    },
    {
      "cell_type": "markdown",
      "metadata": {},
      "source": "<a id='question'></a>\n\n## Question (Level ?)\n\nBy using list comprehension, please write a program to print the list after removing the 0th, 2nd, 4th,6th numbers in [12,24,35,70,88,120,155]."
    },
    {
      "cell_type": "markdown",
      "metadata": {},
      "source": "**💡 Hint:**\n\nUse list comprehension to delete a bunch of element from a list.\nUse enumerate() to get (index, value) tuple."
    },
    {
      "cell_type": "code",
      "metadata": {},
      "execution_count": null,
      "outputs": [],
      "source": "li = [12,24,35,70,88,120,155]\nli = [x for (i,x) in enumerate(li) if i%2!=0]\nprint li"
    },
    {
      "cell_type": "markdown",
      "metadata": {},
      "source": "<a id='question'></a>\n\n## Question (Level ?)\n\nBy using list comprehension, please write a program generate a 3*5*8 3D array whose each element is 0."
    },
    {
      "cell_type": "markdown",
      "metadata": {},
      "source": "**💡 Hint:**\n\nUse list comprehension to make an array."
    },
    {
      "cell_type": "code",
      "metadata": {},
      "execution_count": null,
      "outputs": [],
      "source": "array = [[ [0 for col in range(8)] for col in range(5)] for row in range(3)]\nprint array"
    },
    {
      "cell_type": "markdown",
      "metadata": {},
      "source": "<a id='question'></a>\n\n## Question (Level ?)\n\nBy using list comprehension, please write a program to print the list after removing the 0th,4th,5th numbers in [12,24,35,70,88,120,155]."
    },
    {
      "cell_type": "markdown",
      "metadata": {},
      "source": "**💡 Hint:**\n\nUse list comprehension to delete a bunch of element from a list.\nUse enumerate() to get (index, value) tuple."
    },
    {
      "cell_type": "code",
      "metadata": {},
      "execution_count": null,
      "outputs": [],
      "source": "li = [12,24,35,70,88,120,155]\nli = [x for (i,x) in enumerate(li) if i not in (0,4,5)]\nprint li"
    },
    {
      "cell_type": "markdown",
      "metadata": {},
      "source": "<a id='question'></a>\n\n## Question (Level ?)\n\nBy using list comprehension, please write a program to print the list after removing the value 24 in [12,24,35,24,88,120,155]."
    },
    {
      "cell_type": "markdown",
      "metadata": {},
      "source": "**💡 Hint:**\n\nUse list's remove method to delete a value."
    },
    {
      "cell_type": "code",
      "metadata": {},
      "execution_count": null,
      "outputs": [],
      "source": "li = [12,24,35,24,88,120,155]\nli = [x for x in li if x!=24]\nprint li"
    },
    {
      "cell_type": "markdown",
      "metadata": {},
      "source": "<a id='question'></a>\n\n## Question (Level ?)\n\nWith two given lists [1,3,6,78,35,55] and [12,24,35,24,88,120,155], write a program to make a list whose elements are intersection of the above given lists."
    },
    {
      "cell_type": "markdown",
      "metadata": {},
      "source": "**💡 Hint:**\n\nUse set() and \"&=\" to do set intersection operation."
    },
    {
      "cell_type": "code",
      "metadata": {},
      "execution_count": null,
      "outputs": [],
      "source": "set1=set([1,3,6,78,35,55])\nset2=set([12,24,35,24,88,120,155])\nset1 &= set2\nli=list(set1)\nprint li"
    },
    {
      "cell_type": "markdown",
      "metadata": {},
      "source": "<a id='question'></a>\n\n## Question (Level ?)\n\nDefine a class Person and its two child classes: Male and Female. All classes have a method \"getGender\" which can print \"Male\" for Male class and \"Female\" for Female class."
    },
    {
      "cell_type": "markdown",
      "metadata": {},
      "source": "**💡 Hint:**\n\nUse Subclass(Parentclass) to define a child class."
    },
    {
      "cell_type": "code",
      "metadata": {},
      "execution_count": null,
      "outputs": [],
      "source": "class Person(object):\n    def getGender( self ):\n        return \"Unknown\"\n\nclass Male( Person ):\n    def getGender( self ):\n        return \"Male\"\n\nclass Female( Person ):\n    def getGender( self ):\n        return \"Female\"\n\naMale = Male()\naFemale= Female()\nprint aMale.getGender()\nprint aFemale.getGender()"
    },
    {
      "cell_type": "markdown",
      "metadata": {},
      "source": "<a id='question'></a>\n\n## Question (Level ?)\n\nPlease write a program which count and print the numbers of each character in a string input by console.\n\nExample:\nIf the following string is given as input to the program:\n\nabcdefgabc\n\nThen, the output of the program should be:\n\na,2\nc,2\nb,2\ne,1\nd,1\ng,1\nf,1"
    },
    {
      "cell_type": "markdown",
      "metadata": {},
      "source": "**💡 Hint:**\n\nUse dict to store key/value pairs.\nUse dict.get() method to lookup a key with default value."
    },
    {
      "cell_type": "code",
      "metadata": {},
      "execution_count": null,
      "outputs": [],
      "source": "dic = {}\ns=raw_input()\nfor s in s:\n    dic[s] = dic.get(s,0)+1\nprint '\\n'.join(['%s,%s' % (k, v) for k, v in dic.items()])"
    },
    {
      "cell_type": "markdown",
      "metadata": {},
      "source": "<a id='question'></a>\n\n## Question (Level ?)\n\nPlease write a program which accepts a string from console and print it in reverse order.\n\nExample:\nIf the following string is given as input to the program:\n\nrise to vote sir\n\nThen, the output of the program should be:\n\nris etov ot esir"
    },
    {
      "cell_type": "markdown",
      "metadata": {},
      "source": "**💡 Hint:**\n\nUse list[::-1] to iterate a list in a reverse order."
    },
    {
      "cell_type": "code",
      "metadata": {},
      "execution_count": null,
      "outputs": [],
      "source": "s=raw_input()\ns = s[::-1]\nprint s"
    },
    {
      "cell_type": "markdown",
      "metadata": {},
      "source": "<a id='question'></a>\n\n## Question (Level ?)\n\nPlease write a program which accepts a string from console and print the characters that have even indexes.\n\nExample:\nIf the following string is given as input to the program:\n\nH1e2l3l4o5w6o7r8l9d\n\nThen, the output of the program should be:\n\nHelloworld"
    },
    {
      "cell_type": "markdown",
      "metadata": {},
      "source": "**💡 Hint:**\n\nUse list[::2] to iterate a list by step 2."
    },
    {
      "cell_type": "code",
      "metadata": {},
      "execution_count": null,
      "outputs": [],
      "source": "s=raw_input()\ns = s[::2]\nprint s"
    },
    {
      "cell_type": "markdown",
      "metadata": {},
      "source": "<a id='question'></a>\n\n## Question (Level ?)\n\nPlease write a program which prints all permutations of [1,2,3]"
    },
    {
      "cell_type": "markdown",
      "metadata": {},
      "source": "**💡 Hint:**\n\nUse itertools.permutations() to get permutations of list."
    },
    {
      "cell_type": "code",
      "metadata": {},
      "execution_count": null,
      "outputs": [],
      "source": "import itertools\nprint list(itertools.permutations([1,2,3]))"
    },
    {
      "cell_type": "markdown",
      "metadata": {},
      "source": "<a id='question'></a>\n\n## Question (Level ?)\n\n"
    },
    {
      "cell_type": "code",
      "metadata": {},
      "execution_count": null,
      "outputs": [],
      "source": "def solve(numheads,numlegs):\n    ns='No solutions!'\n    for i in range(numheads+1):\n        j=numheads-i\n        if 2*i+4*j==numlegs:\n            return i,j\n    return ns,ns\n\nnumheads=35\nnumlegs=94\nsolutions=solve(numheads,numlegs)\nprint solutions"
    }
  ],
  "metadata": {
    "kernelspec": {
      "display_name": "Python 3",
      "language": "python",
      "name": "python3"
    },
    "language_info": {
      "name": "python",
      "version": "3.x"
    }
  },
  "nbformat": 4,
  "nbformat_minor": 5
}